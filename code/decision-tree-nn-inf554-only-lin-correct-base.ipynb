{
 "cells": [
  {
   "cell_type": "code",
   "execution_count": 1,
   "id": "e4d3d8e9",
   "metadata": {
    "_cell_guid": "b1076dfc-b9ad-4769-8c92-a6c4dae69d19",
    "_uuid": "8f2839f25d086af736a60e9eeb907d3b93b6e0e5",
    "execution": {
     "iopub.execute_input": "2022-11-30T15:19:38.909324Z",
     "iopub.status.busy": "2022-11-30T15:19:38.908394Z",
     "iopub.status.idle": "2022-11-30T15:19:38.922496Z",
     "shell.execute_reply": "2022-11-30T15:19:38.921588Z"
    },
    "papermill": {
     "duration": 0.025633,
     "end_time": "2022-11-30T15:19:38.924841",
     "exception": false,
     "start_time": "2022-11-30T15:19:38.899208",
     "status": "completed"
    },
    "tags": []
   },
   "outputs": [
    {
     "name": "stdout",
     "output_type": "stream",
     "text": [
      "/kaggle/input/retweet-prediction-challenge-2022/baseline.py\n",
      "/kaggle/input/retweet-prediction-challenge-2022/mean_predictions.txt\n",
      "/kaggle/input/retweet-prediction-challenge-2022/dummy_baseline.py\n",
      "/kaggle/input/retweet-prediction-challenge-2022/train.csv\n",
      "/kaggle/input/retweet-prediction-challenge-2022/evaluation.csv\n",
      "/kaggle/input/retweet-prediction-challenge-2022/gbr_predictions.txt\n",
      "/kaggle/input/retweet-prediction-challenge-2022/zero_predictions.txt\n"
     ]
    }
   ],
   "source": [
    "# This Python 3 environment comes with many helpful analytics libraries installed\n",
    "# It is defined by the kaggle/python Docker image: https://github.com/kaggle/docker-python\n",
    "# For example, here's several helpful packages to load\n",
    "\n",
    "import numpy as np # linear algebra\n",
    "import pandas as pd # data processing, CSV file I/O (e.g. pd.read_csv)\n",
    "\n",
    "# Input data files are available in the read-only \"../input/\" directory\n",
    "# For example, running this (by clicking run or pressing Shift+Enter) will list all files under the input directory\n",
    "\n",
    "import os\n",
    "for dirname, _, filenames in os.walk('/kaggle/input'):\n",
    "    for filename in filenames:\n",
    "        print(os.path.join(dirname, filename))\n",
    "\n",
    "# You can write up to 20GB to the current directory (/kaggle/working/) that gets preserved as output when you create a version using \"Save & Run All\" \n",
    "# You can also write temporary files to /kaggle/temp/, but they won't be saved outside of the current session"
   ]
  },
  {
   "cell_type": "code",
   "execution_count": 2,
   "id": "84c8c217",
   "metadata": {
    "execution": {
     "iopub.execute_input": "2022-11-30T15:19:38.939478Z",
     "iopub.status.busy": "2022-11-30T15:19:38.938745Z",
     "iopub.status.idle": "2022-11-30T15:19:41.610582Z",
     "shell.execute_reply": "2022-11-30T15:19:41.609535Z"
    },
    "papermill": {
     "duration": 2.682305,
     "end_time": "2022-11-30T15:19:41.613866",
     "exception": false,
     "start_time": "2022-11-30T15:19:38.931561",
     "status": "completed"
    },
    "tags": []
   },
   "outputs": [],
   "source": [
    "all_df = pd.read_csv(\"/kaggle/input/retweet-prediction-challenge-2022/train.csv\")\n",
    "ev_df = pd.read_csv(\"/kaggle/input/retweet-prediction-challenge-2022/evaluation.csv\")"
   ]
  },
  {
   "cell_type": "code",
   "execution_count": 3,
   "id": "dd8781e4",
   "metadata": {
    "execution": {
     "iopub.execute_input": "2022-11-30T15:19:41.642349Z",
     "iopub.status.busy": "2022-11-30T15:19:41.641990Z",
     "iopub.status.idle": "2022-11-30T15:19:41.668302Z",
     "shell.execute_reply": "2022-11-30T15:19:41.667215Z"
    },
    "papermill": {
     "duration": 0.038552,
     "end_time": "2022-11-30T15:19:41.671242",
     "exception": false,
     "start_time": "2022-11-30T15:19:41.632690",
     "status": "completed"
    },
    "tags": []
   },
   "outputs": [
    {
     "data": {
      "text/html": [
       "<div>\n",
       "<style scoped>\n",
       "    .dataframe tbody tr th:only-of-type {\n",
       "        vertical-align: middle;\n",
       "    }\n",
       "\n",
       "    .dataframe tbody tr th {\n",
       "        vertical-align: top;\n",
       "    }\n",
       "\n",
       "    .dataframe thead th {\n",
       "        text-align: right;\n",
       "    }\n",
       "</style>\n",
       "<table border=\"1\" class=\"dataframe\">\n",
       "  <thead>\n",
       "    <tr style=\"text-align: right;\">\n",
       "      <th></th>\n",
       "      <th>text</th>\n",
       "      <th>retweets_count</th>\n",
       "      <th>favorites_count</th>\n",
       "      <th>followers_count</th>\n",
       "      <th>statuses_count</th>\n",
       "      <th>friends_count</th>\n",
       "      <th>mentions</th>\n",
       "      <th>urls</th>\n",
       "      <th>verified</th>\n",
       "      <th>hashtags</th>\n",
       "      <th>timestamp</th>\n",
       "      <th>TweetID</th>\n",
       "    </tr>\n",
       "  </thead>\n",
       "  <tbody>\n",
       "    <tr>\n",
       "      <th>0</th>\n",
       "      <td>rt refarcir macron ans nom prépare</td>\n",
       "      <td>3</td>\n",
       "      <td>0</td>\n",
       "      <td>3682</td>\n",
       "      <td>453535</td>\n",
       "      <td>3628</td>\n",
       "      <td>[]</td>\n",
       "      <td>[]</td>\n",
       "      <td>0</td>\n",
       "      <td>[]</td>\n",
       "      <td>1646978048000</td>\n",
       "      <td>832509</td>\n",
       "    </tr>\n",
       "    <tr>\n",
       "      <th>1</th>\n",
       "      <td>populaire</td>\n",
       "      <td>0</td>\n",
       "      <td>0</td>\n",
       "      <td>86</td>\n",
       "      <td>1016</td>\n",
       "      <td>284</td>\n",
       "      <td>[]</td>\n",
       "      <td>[]</td>\n",
       "      <td>0</td>\n",
       "      <td>[]</td>\n",
       "      <td>1647694288000</td>\n",
       "      <td>1388011</td>\n",
       "    </tr>\n",
       "    <tr>\n",
       "      <th>2</th>\n",
       "      <td>faut dégager cinglé</td>\n",
       "      <td>3</td>\n",
       "      <td>1</td>\n",
       "      <td>1944</td>\n",
       "      <td>28234</td>\n",
       "      <td>1995</td>\n",
       "      <td>[]</td>\n",
       "      <td>[]</td>\n",
       "      <td>0</td>\n",
       "      <td>[]</td>\n",
       "      <td>1647370048000</td>\n",
       "      <td>63896</td>\n",
       "    </tr>\n",
       "    <tr>\n",
       "      <th>3</th>\n",
       "      <td>enseignants mettre prescriptions président rép...</td>\n",
       "      <td>0</td>\n",
       "      <td>0</td>\n",
       "      <td>1</td>\n",
       "      <td>1072</td>\n",
       "      <td>0</td>\n",
       "      <td>[]</td>\n",
       "      <td>['https://t.co/rytlted08g']</td>\n",
       "      <td>0</td>\n",
       "      <td>[]</td>\n",
       "      <td>1647256282000</td>\n",
       "      <td>979251</td>\n",
       "    </tr>\n",
       "    <tr>\n",
       "      <th>4</th>\n",
       "      <td>mafieuse oppressive macron</td>\n",
       "      <td>0</td>\n",
       "      <td>0</td>\n",
       "      <td>13957</td>\n",
       "      <td>25311</td>\n",
       "      <td>10841</td>\n",
       "      <td>[]</td>\n",
       "      <td>[]</td>\n",
       "      <td>0</td>\n",
       "      <td>[]</td>\n",
       "      <td>1647258374000</td>\n",
       "      <td>1040049</td>\n",
       "    </tr>\n",
       "  </tbody>\n",
       "</table>\n",
       "</div>"
      ],
      "text/plain": [
       "                                                text  retweets_count  \\\n",
       "0                 rt refarcir macron ans nom prépare               3   \n",
       "1                                          populaire               0   \n",
       "2                                faut dégager cinglé               3   \n",
       "3  enseignants mettre prescriptions président rép...               0   \n",
       "4                         mafieuse oppressive macron               0   \n",
       "\n",
       "   favorites_count  followers_count  statuses_count  friends_count mentions  \\\n",
       "0                0             3682          453535           3628       []   \n",
       "1                0               86            1016            284       []   \n",
       "2                1             1944           28234           1995       []   \n",
       "3                0                1            1072              0       []   \n",
       "4                0            13957           25311          10841       []   \n",
       "\n",
       "                          urls  verified hashtags      timestamp  TweetID  \n",
       "0                           []         0       []  1646978048000   832509  \n",
       "1                           []         0       []  1647694288000  1388011  \n",
       "2                           []         0       []  1647370048000    63896  \n",
       "3  ['https://t.co/rytlted08g']         0       []  1647256282000   979251  \n",
       "4                           []         0       []  1647258374000  1040049  "
      ]
     },
     "execution_count": 3,
     "metadata": {},
     "output_type": "execute_result"
    }
   ],
   "source": [
    "all_df.head()"
   ]
  },
  {
   "cell_type": "code",
   "execution_count": 4,
   "id": "1bfbe24e",
   "metadata": {
    "execution": {
     "iopub.execute_input": "2022-11-30T15:19:41.687243Z",
     "iopub.status.busy": "2022-11-30T15:19:41.686962Z",
     "iopub.status.idle": "2022-11-30T15:19:41.708558Z",
     "shell.execute_reply": "2022-11-30T15:19:41.707461Z"
    },
    "papermill": {
     "duration": 0.032181,
     "end_time": "2022-11-30T15:19:41.710853",
     "exception": false,
     "start_time": "2022-11-30T15:19:41.678672",
     "status": "completed"
    },
    "tags": []
   },
   "outputs": [
    {
     "name": "stdout",
     "output_type": "stream",
     "text": [
      "text ; favorites_count ; followers_count ; retweets_count\n",
      "'consultants mckinsey pris lee contrôle france' ; 101 ; 57270 ; 65\n",
      "'lire numéro mars retrouver coordonné usages actuels notion souveraineté entretiennent confusion souveraineté puissance' ; 105 ; 10370 ; 57\n",
      "'savoir oubliez prendre pourris œufs faire traces odeur' ; 102 ; 4945 ; 18\n",
      "'établissements fin république moyens riches moyens pauvres macron organise séparatisme riches veux république partout veux réussite enfants' ; 102 ; 68514 ; 45\n",
      "'adepte communication indirecte emmanuel macron republié lettre français officialisant candidature twitter problème compte président candidat suivi fairplay' ; 103 ; 124789 ; 41\n",
      "'mépris traitent camp gauche radicale lfi gauche révolutionnaire débattre politique diaboliser caricaturer mutuellement cause désaccords stratégiques' ; 108 ; 8528 ; 7\n",
      "'semblant militant giflé président juin réjoui' ; 101 ; 41731 ; 43\n",
      "'prédit meeting besançon soir démocratie vitesses courbettes fascistes écarte arbitrairement candidats jugés illégitimes' ; 101 ; 17039 ; 17\n",
      "'fort faibles faible forts forcément gilet jaune menaçant tir lbd calme promesse chèque euros fin mois' ; 103 ; 45334 ; 42\n",
      "'système homme meute hystérique vidéos tabassent homme terre peine acharnement peine croyable médias femmes hommes politiques discrédités jamais' ; 108 ; 6207 ; 34\n",
      "'vrai vue nez macron manière légèrement aborder corse guadeloupe' ; 103 ; 23052 ; 75\n",
      "'françois hollande présent meeting mars limoges' ; 102 ; 1093 ; 33\n",
      "'restera président départs actionnaires progrès foot mercato' ; 101 ; 50592 ; 6\n",
      "'candidate rn marine pen affirme micro bfmtv président république instrumentalise guerre ukraine fins électoralistes jouant peur français face conflit' ; 103 ; 72506 ; 24\n",
      "'macron mauvais président chef guerre boulevard abstention piège cons derniers virages democrature' ; 103 ; 758 ; 43\n",
      "'floirac bd voltaire favori campagne acclamé meetings président programme guerrier guerre diplomate pouvoir royaume potemkine macronie continue marche' ; 105 ; 3324 ; 58\n",
      "'prenez lapins semaines vrai zemmouriens retourne veste monter retrouve croyez vraiment parti macron percresse marine lepen impossible' ; 102 ; 7233 ; 42\n",
      "'mecs service sécurité serrent main sourire mec approche' ; 109 ; 15077 ; 25\n",
      "'raison rationnelle voter macron militants réfugient croyance besoin argument foi lrem parti politique secte dangereux illuminés' ; 105 ; 23014 ; 54\n",
      "'avril qualification second tour élection présidentielle immense événement climat temps perdu vite planification écologique' ; 104 ; 141622 ; 40\n"
     ]
    }
   ],
   "source": [
    "print(\"text\",\";\", \"favorites_count\",\";\", \"followers_count\",\";\", \"retweets_count\")\n",
    "for i, row in all_df[(110 > all_df.favorites_count) & (all_df.favorites_count > 100)][[\"text\", \"favorites_count\", \"followers_count\", \"retweets_count\"]].sample(20).iterrows():\n",
    "    print(repr(row.text),\";\", row.favorites_count,\";\", row.followers_count,\";\", row.retweets_count)"
   ]
  },
  {
   "cell_type": "code",
   "execution_count": 5,
   "id": "2b052b99",
   "metadata": {
    "execution": {
     "iopub.execute_input": "2022-11-30T15:19:41.727327Z",
     "iopub.status.busy": "2022-11-30T15:19:41.727032Z",
     "iopub.status.idle": "2022-11-30T15:19:41.740324Z",
     "shell.execute_reply": "2022-11-30T15:19:41.739301Z"
    },
    "papermill": {
     "duration": 0.024148,
     "end_time": "2022-11-30T15:19:41.742502",
     "exception": false,
     "start_time": "2022-11-30T15:19:41.718354",
     "status": "completed"
    },
    "tags": []
   },
   "outputs": [
    {
     "data": {
      "text/html": [
       "<div>\n",
       "<style scoped>\n",
       "    .dataframe tbody tr th:only-of-type {\n",
       "        vertical-align: middle;\n",
       "    }\n",
       "\n",
       "    .dataframe tbody tr th {\n",
       "        vertical-align: top;\n",
       "    }\n",
       "\n",
       "    .dataframe thead th {\n",
       "        text-align: right;\n",
       "    }\n",
       "</style>\n",
       "<table border=\"1\" class=\"dataframe\">\n",
       "  <thead>\n",
       "    <tr style=\"text-align: right;\">\n",
       "      <th></th>\n",
       "      <th>text</th>\n",
       "      <th>favorites_count</th>\n",
       "      <th>followers_count</th>\n",
       "      <th>statuses_count</th>\n",
       "      <th>friends_count</th>\n",
       "      <th>mentions</th>\n",
       "      <th>urls</th>\n",
       "      <th>verified</th>\n",
       "      <th>hashtags</th>\n",
       "      <th>timestamp</th>\n",
       "      <th>TweetID</th>\n",
       "    </tr>\n",
       "  </thead>\n",
       "  <tbody>\n",
       "    <tr>\n",
       "      <th>0</th>\n",
       "      <td>descendue pourcentage vote</td>\n",
       "      <td>0</td>\n",
       "      <td>85</td>\n",
       "      <td>4442</td>\n",
       "      <td>327</td>\n",
       "      <td>[]</td>\n",
       "      <td>[]</td>\n",
       "      <td>0</td>\n",
       "      <td>['presidentielle2022', 'hidalgo']</td>\n",
       "      <td>1647607994000</td>\n",
       "      <td>1184643</td>\n",
       "    </tr>\n",
       "    <tr>\n",
       "      <th>1</th>\n",
       "      <td>photo demande arbre généalogique</td>\n",
       "      <td>0</td>\n",
       "      <td>427</td>\n",
       "      <td>33282</td>\n",
       "      <td>443</td>\n",
       "      <td>[]</td>\n",
       "      <td>[]</td>\n",
       "      <td>0</td>\n",
       "      <td>[]</td>\n",
       "      <td>1647601275000</td>\n",
       "      <td>1199190</td>\n",
       "    </tr>\n",
       "    <tr>\n",
       "      <th>2</th>\n",
       "      <td>dossiers promis poste gars vraiment fiable</td>\n",
       "      <td>6</td>\n",
       "      <td>1127</td>\n",
       "      <td>13111</td>\n",
       "      <td>1596</td>\n",
       "      <td>[]</td>\n",
       "      <td>[]</td>\n",
       "      <td>0</td>\n",
       "      <td>['macron']</td>\n",
       "      <td>1646900684000</td>\n",
       "      <td>917372</td>\n",
       "    </tr>\n",
       "    <tr>\n",
       "      <th>3</th>\n",
       "      <td>lol cas faut second tour macron sortir définit...</td>\n",
       "      <td>2</td>\n",
       "      <td>1699</td>\n",
       "      <td>25760</td>\n",
       "      <td>2036</td>\n",
       "      <td>[]</td>\n",
       "      <td>['https://t.co/7ox54d8dlm']</td>\n",
       "      <td>0</td>\n",
       "      <td>[]</td>\n",
       "      <td>1647161294000</td>\n",
       "      <td>731754</td>\n",
       "    </tr>\n",
       "    <tr>\n",
       "      <th>4</th>\n",
       "      <td>zemmour putain discours propagandiste littéral...</td>\n",
       "      <td>0</td>\n",
       "      <td>249</td>\n",
       "      <td>20718</td>\n",
       "      <td>369</td>\n",
       "      <td>[]</td>\n",
       "      <td>['https://t.co/tsw9cg6v9j', 'https://t.co/t0j9...</td>\n",
       "      <td>0</td>\n",
       "      <td>[]</td>\n",
       "      <td>1647724874000</td>\n",
       "      <td>1400049</td>\n",
       "    </tr>\n",
       "  </tbody>\n",
       "</table>\n",
       "</div>"
      ],
      "text/plain": [
       "                                                text  favorites_count  \\\n",
       "0                         descendue pourcentage vote                0   \n",
       "1                   photo demande arbre généalogique                0   \n",
       "2         dossiers promis poste gars vraiment fiable                6   \n",
       "3  lol cas faut second tour macron sortir définit...                2   \n",
       "4  zemmour putain discours propagandiste littéral...                0   \n",
       "\n",
       "   followers_count  statuses_count  friends_count mentions  \\\n",
       "0               85            4442            327       []   \n",
       "1              427           33282            443       []   \n",
       "2             1127           13111           1596       []   \n",
       "3             1699           25760           2036       []   \n",
       "4              249           20718            369       []   \n",
       "\n",
       "                                                urls  verified  \\\n",
       "0                                                 []         0   \n",
       "1                                                 []         0   \n",
       "2                                                 []         0   \n",
       "3                        ['https://t.co/7ox54d8dlm']         0   \n",
       "4  ['https://t.co/tsw9cg6v9j', 'https://t.co/t0j9...         0   \n",
       "\n",
       "                            hashtags      timestamp  TweetID  \n",
       "0  ['presidentielle2022', 'hidalgo']  1647607994000  1184643  \n",
       "1                                 []  1647601275000  1199190  \n",
       "2                         ['macron']  1646900684000   917372  \n",
       "3                                 []  1647161294000   731754  \n",
       "4                                 []  1647724874000  1400049  "
      ]
     },
     "execution_count": 5,
     "metadata": {},
     "output_type": "execute_result"
    }
   ],
   "source": [
    "ev_df.head()"
   ]
  },
  {
   "cell_type": "code",
   "execution_count": 6,
   "id": "d612f30a",
   "metadata": {
    "execution": {
     "iopub.execute_input": "2022-11-30T15:19:41.760871Z",
     "iopub.status.busy": "2022-11-30T15:19:41.760555Z",
     "iopub.status.idle": "2022-11-30T15:19:41.803554Z",
     "shell.execute_reply": "2022-11-30T15:19:41.802140Z"
    },
    "papermill": {
     "duration": 0.054144,
     "end_time": "2022-11-30T15:19:41.805931",
     "exception": false,
     "start_time": "2022-11-30T15:19:41.751787",
     "status": "completed"
    },
    "tags": []
   },
   "outputs": [
    {
     "name": "stdout",
     "output_type": "stream",
     "text": [
      "<class 'pandas.core.frame.DataFrame'>\n",
      "RangeIndex: 117990 entries, 0 to 117989\n",
      "Data columns (total 11 columns):\n",
      " #   Column           Non-Null Count   Dtype \n",
      "---  ------           --------------   ----- \n",
      " 0   text             117990 non-null  object\n",
      " 1   favorites_count  117990 non-null  int64 \n",
      " 2   followers_count  117990 non-null  int64 \n",
      " 3   statuses_count   117990 non-null  int64 \n",
      " 4   friends_count    117990 non-null  int64 \n",
      " 5   mentions         117990 non-null  object\n",
      " 6   urls             117990 non-null  object\n",
      " 7   verified         117990 non-null  int64 \n",
      " 8   hashtags         117990 non-null  object\n",
      " 9   timestamp        117990 non-null  int64 \n",
      " 10  TweetID          117990 non-null  int64 \n",
      "dtypes: int64(7), object(4)\n",
      "memory usage: 9.9+ MB\n"
     ]
    }
   ],
   "source": [
    "ev_df.info()"
   ]
  },
  {
   "cell_type": "code",
   "execution_count": 7,
   "id": "f2af9e4f",
   "metadata": {
    "execution": {
     "iopub.execute_input": "2022-11-30T15:19:41.823671Z",
     "iopub.status.busy": "2022-11-30T15:19:41.823344Z",
     "iopub.status.idle": "2022-11-30T15:19:41.829053Z",
     "shell.execute_reply": "2022-11-30T15:19:41.828100Z"
    },
    "papermill": {
     "duration": 0.016924,
     "end_time": "2022-11-30T15:19:41.831289",
     "exception": false,
     "start_time": "2022-11-30T15:19:41.814365",
     "status": "completed"
    },
    "tags": []
   },
   "outputs": [],
   "source": [
    "from datetime import datetime"
   ]
  },
  {
   "cell_type": "code",
   "execution_count": 8,
   "id": "35eba149",
   "metadata": {
    "execution": {
     "iopub.execute_input": "2022-11-30T15:19:41.848463Z",
     "iopub.status.busy": "2022-11-30T15:19:41.848177Z",
     "iopub.status.idle": "2022-11-30T15:19:41.859951Z",
     "shell.execute_reply": "2022-11-30T15:19:41.858994Z"
    },
    "papermill": {
     "duration": 0.022745,
     "end_time": "2022-11-30T15:19:41.862087",
     "exception": false,
     "start_time": "2022-11-30T15:19:41.839342",
     "status": "completed"
    },
    "tags": []
   },
   "outputs": [],
   "source": [
    "to_bucketize = {\"word_count\":5, \"tweet_len\":5, \"timestamp\":6,\n",
    "                \"favorites_count\":160, \"statuses_count\":6, \"friends_count\":10, \"followers_count\":10,\n",
    "               \"hour\":4}#, \"day\":7}\n",
    "\n",
    "def pre_process(df, buckets_borders=None):\n",
    "    cols = [\"urls_count\", \"hashtags_count\", \"verified\"]\n",
    "    \n",
    "    df[\"urls_count\"] = df.urls.map(lambda x: min(len(x.split(\",\")), 2)-1)\n",
    "    df[\"hashtags_count\"] = df.hashtags.map(lambda x: min(len(x.split(\",\")),5)-1)\n",
    "    df[\"word_count\"] = df.text.map(lambda x: len(x))\n",
    "    df[\"tweet_len\"] = df.text.map(lambda x: len(x.split()))\n",
    "    df[\"hour\"] = df.timestamp.apply(lambda x: datetime.fromtimestamp(x/1000.0).hour)\n",
    "    #df[\"day\"] = df.timestamp.apply(lambda x: datetime.fromtimestamp(x/1000.0).weekday())\n",
    "    \n",
    "    if buckets_borders is None:\n",
    "        buckets_borders = {}\n",
    "    for col_name, n_buckets in to_bucketize.items():\n",
    "        if col_name in buckets_borders:\n",
    "            bd = buckets_borders[col_name]\n",
    "        else:\n",
    "            values = df[col_name].values\n",
    "            quartiles = np.linspace(0, 1, n_buckets+1)\n",
    "            bd = sorted(list(set([np.quantile(values,q) for q in quartiles])))\n",
    "            bd[0] -= 1\n",
    "            bd[-1] += 1\n",
    "            buckets_borders[col_name] = bd\n",
    "        \n",
    "        true_n_buckets = len(bd) - 1\n",
    "        new_name = f\"{col_name}_b_{true_n_buckets}\"\n",
    "        cols.append(new_name)\n",
    "        df[new_name] = pd.cut(df[col_name], bins=bd, labels=list(range(true_n_buckets)))\n",
    "    \n",
    "    X = df[cols].values\n",
    "    \n",
    "    return X, buckets_borders, cols"
   ]
  },
  {
   "cell_type": "code",
   "execution_count": 9,
   "id": "863fd406",
   "metadata": {
    "execution": {
     "iopub.execute_input": "2022-11-30T15:19:41.878590Z",
     "iopub.status.busy": "2022-11-30T15:19:41.878319Z",
     "iopub.status.idle": "2022-11-30T15:19:43.546573Z",
     "shell.execute_reply": "2022-11-30T15:19:43.545514Z"
    },
    "papermill": {
     "duration": 1.679415,
     "end_time": "2022-11-30T15:19:43.549097",
     "exception": false,
     "start_time": "2022-11-30T15:19:41.869682",
     "status": "completed"
    },
    "tags": []
   },
   "outputs": [],
   "source": [
    "from sklearn.model_selection import train_test_split\n",
    "\n",
    "train_df, val_df = train_test_split(all_df, test_size=0.1, random_state=1)"
   ]
  },
  {
   "cell_type": "code",
   "execution_count": 10,
   "id": "79f2ae4d",
   "metadata": {
    "execution": {
     "iopub.execute_input": "2022-11-30T15:19:43.566510Z",
     "iopub.status.busy": "2022-11-30T15:19:43.566190Z",
     "iopub.status.idle": "2022-11-30T15:19:46.452819Z",
     "shell.execute_reply": "2022-11-30T15:19:46.451832Z"
    },
    "papermill": {
     "duration": 2.89759,
     "end_time": "2022-11-30T15:19:46.455274",
     "exception": false,
     "start_time": "2022-11-30T15:19:43.557684",
     "status": "completed"
    },
    "tags": []
   },
   "outputs": [],
   "source": [
    "X_train, buckets_borders, cols = pre_process(train_df)\n",
    "y_train = train_df[\"retweets_count\"].values\n",
    "X_val, _, _ = pre_process(val_df)\n",
    "y_val = val_df[\"retweets_count\"].values\n",
    "X_ev, _, _ = pre_process(ev_df)"
   ]
  },
  {
   "cell_type": "code",
   "execution_count": 11,
   "id": "d9d3e579",
   "metadata": {
    "execution": {
     "iopub.execute_input": "2022-11-30T15:19:46.471998Z",
     "iopub.status.busy": "2022-11-30T15:19:46.471181Z",
     "iopub.status.idle": "2022-11-30T15:19:46.480503Z",
     "shell.execute_reply": "2022-11-30T15:19:46.479563Z"
    },
    "papermill": {
     "duration": 0.019563,
     "end_time": "2022-11-30T15:19:46.482418",
     "exception": false,
     "start_time": "2022-11-30T15:19:46.462855",
     "status": "completed"
    },
    "tags": []
   },
   "outputs": [
    {
     "name": "stdout",
     "output_type": "stream",
     "text": [
      "[2, 5, 2, 5, 5, 6, 29, 6, 10, 10, 4]\n"
     ]
    }
   ],
   "source": [
    "nb_cat = [X_train[:, i].max()+1 for i in range(len(cols))]\n",
    "print(nb_cat)"
   ]
  },
  {
   "cell_type": "code",
   "execution_count": 12,
   "id": "73255cd2",
   "metadata": {
    "execution": {
     "iopub.execute_input": "2022-11-30T15:19:46.497776Z",
     "iopub.status.busy": "2022-11-30T15:19:46.497499Z",
     "iopub.status.idle": "2022-11-30T15:19:46.502627Z",
     "shell.execute_reply": "2022-11-30T15:19:46.501577Z"
    },
    "papermill": {
     "duration": 0.015337,
     "end_time": "2022-11-30T15:19:46.504844",
     "exception": false,
     "start_time": "2022-11-30T15:19:46.489507",
     "status": "completed"
    },
    "tags": []
   },
   "outputs": [],
   "source": [
    "min_bucket_size = 300\n",
    "cols_n = list(range(len(cols)))\n",
    "def can_cut(x, c):\n",
    "    return all((x[:,c] == i).sum() >= min_bucket_size for i in range(nb_cat[c]))"
   ]
  },
  {
   "cell_type": "code",
   "execution_count": 13,
   "id": "a85eefa2",
   "metadata": {
    "execution": {
     "iopub.execute_input": "2022-11-30T15:19:46.520015Z",
     "iopub.status.busy": "2022-11-30T15:19:46.519748Z",
     "iopub.status.idle": "2022-11-30T15:19:46.529259Z",
     "shell.execute_reply": "2022-11-30T15:19:46.528226Z"
    },
    "papermill": {
     "duration": 0.01948,
     "end_time": "2022-11-30T15:19:46.531380",
     "exception": false,
     "start_time": "2022-11-30T15:19:46.511900",
     "status": "completed"
    },
    "tags": []
   },
   "outputs": [
    {
     "data": {
      "text/plain": [
       "0     242896\n",
       "1       9445\n",
       "2       6720\n",
       "3       5188\n",
       "4       4134\n",
       "5       3477\n",
       "10      3002\n",
       "6       2849\n",
       "7       2329\n",
       "17      2290\n",
       "12      2238\n",
       "8       2135\n",
       "15      2106\n",
       "23      1999\n",
       "26      1993\n",
       "28      1991\n",
       "27      1989\n",
       "24      1982\n",
       "25      1974\n",
       "19      1955\n",
       "22      1954\n",
       "20      1911\n",
       "21      1906\n",
       "13      1869\n",
       "18      1869\n",
       "9       1861\n",
       "16      1591\n",
       "14      1569\n",
       "11      1350\n",
       "Name: favorites_count_b_29, dtype: int64"
      ]
     },
     "execution_count": 13,
     "metadata": {},
     "output_type": "execute_result"
    }
   ],
   "source": [
    "train_df[\"favorites_count_b_29\"].value_counts()"
   ]
  },
  {
   "cell_type": "code",
   "execution_count": 14,
   "id": "43e316fb",
   "metadata": {
    "execution": {
     "iopub.execute_input": "2022-11-30T15:19:46.547175Z",
     "iopub.status.busy": "2022-11-30T15:19:46.546917Z",
     "iopub.status.idle": "2022-11-30T15:19:46.589865Z",
     "shell.execute_reply": "2022-11-30T15:19:46.588754Z"
    },
    "papermill": {
     "duration": 0.053208,
     "end_time": "2022-11-30T15:19:46.592193",
     "exception": false,
     "start_time": "2022-11-30T15:19:46.538985",
     "status": "completed"
    },
    "tags": []
   },
   "outputs": [
    {
     "name": "stdout",
     "output_type": "stream",
     "text": [
      "[('urls_count', True), ('hashtags_count', True), ('verified', True), ('word_count_b_5', True), ('tweet_len_b_5', True), ('timestamp_b_6', True), ('favorites_count_b_29', True), ('statuses_count_b_6', True), ('friends_count_b_10', True), ('followers_count_b_10', True), ('hour_b_4', True)]\n"
     ]
    }
   ],
   "source": [
    "print([(cols[c], can_cut(X_train,c)) for c in cols_n])"
   ]
  },
  {
   "cell_type": "code",
   "execution_count": 15,
   "id": "c302ed0f",
   "metadata": {
    "execution": {
     "iopub.execute_input": "2022-11-30T15:19:46.608326Z",
     "iopub.status.busy": "2022-11-30T15:19:46.608049Z",
     "iopub.status.idle": "2022-11-30T15:19:46.612581Z",
     "shell.execute_reply": "2022-11-30T15:19:46.611543Z"
    },
    "papermill": {
     "duration": 0.015019,
     "end_time": "2022-11-30T15:19:46.614806",
     "exception": false,
     "start_time": "2022-11-30T15:19:46.599787",
     "status": "completed"
    },
    "tags": []
   },
   "outputs": [],
   "source": [
    "def loss(y):\n",
    "    return np.abs(y - np.median(y)).sum()"
   ]
  },
  {
   "cell_type": "code",
   "execution_count": 16,
   "id": "e789fa6b",
   "metadata": {
    "execution": {
     "iopub.execute_input": "2022-11-30T15:19:46.630960Z",
     "iopub.status.busy": "2022-11-30T15:19:46.630209Z",
     "iopub.status.idle": "2022-11-30T15:19:46.635873Z",
     "shell.execute_reply": "2022-11-30T15:19:46.635034Z"
    },
    "papermill": {
     "duration": 0.01562,
     "end_time": "2022-11-30T15:19:46.637776",
     "exception": false,
     "start_time": "2022-11-30T15:19:46.622156",
     "status": "completed"
    },
    "tags": []
   },
   "outputs": [],
   "source": [
    "def cut(x, *arrays, c=-1):\n",
    "    masks = [x[:,c] == i for i in range(nb_cat[c])]\n",
    "    return [(x[m], *[a[m] for a in arrays]) for m in masks]"
   ]
  },
  {
   "cell_type": "code",
   "execution_count": 17,
   "id": "015b4fa9",
   "metadata": {
    "execution": {
     "iopub.execute_input": "2022-11-30T15:19:46.653891Z",
     "iopub.status.busy": "2022-11-30T15:19:46.653118Z",
     "iopub.status.idle": "2022-11-30T15:19:46.661459Z",
     "shell.execute_reply": "2022-11-30T15:19:46.660649Z"
    },
    "papermill": {
     "duration": 0.018342,
     "end_time": "2022-11-30T15:19:46.663414",
     "exception": false,
     "start_time": "2022-11-30T15:19:46.645072",
     "status": "completed"
    },
    "tags": []
   },
   "outputs": [],
   "source": [
    "def prediction_factory(x, y, depth=0):\n",
    "    possible_cuts = [c for c in cols_n if can_cut(x,c)]\n",
    "    if not possible_cuts:\n",
    "        return (lambda x: np.full((x.shape[0],),np.median(y)))\n",
    "    cuts_losses = [(sum(loss(sub_y) for (sub_x,sub_y) in cut(x, y, c=c)), c) for c in possible_cuts]\n",
    "    best_cut = min(cuts_losses)[1]\n",
    "    \n",
    "    child_fns = []\n",
    "    for x_c, y_c in cut(x,y, c=best_cut):\n",
    "        child_fns.append(prediction_factory(x_c, y_c, depth=depth+1))\n",
    "    \n",
    "    def pred(x_pred):\n",
    "        idxs = np.arange(0, x_pred.shape[0])\n",
    "        y_pred = np.empty(x_pred.shape[0])\n",
    "        for (x_pred_c, idxs_c), fn_c in zip(cut(x_pred, idxs, c=best_cut), child_fns):\n",
    "            y_pred[idxs_c] = fn_c(x_pred_c)\n",
    "            \n",
    "        return y_pred\n",
    "    return pred"
   ]
  },
  {
   "cell_type": "code",
   "execution_count": 18,
   "id": "b6ac152c",
   "metadata": {
    "execution": {
     "iopub.execute_input": "2022-11-30T15:19:46.679594Z",
     "iopub.status.busy": "2022-11-30T15:19:46.678748Z",
     "iopub.status.idle": "2022-11-30T15:19:47.863416Z",
     "shell.execute_reply": "2022-11-30T15:19:47.862442Z"
    },
    "papermill": {
     "duration": 1.195147,
     "end_time": "2022-11-30T15:19:47.865808",
     "exception": false,
     "start_time": "2022-11-30T15:19:46.670661",
     "status": "completed"
    },
    "tags": []
   },
   "outputs": [],
   "source": [
    "tree = prediction_factory(X_train, y_train)"
   ]
  },
  {
   "cell_type": "code",
   "execution_count": 19,
   "id": "0d717af3",
   "metadata": {
    "execution": {
     "iopub.execute_input": "2022-11-30T15:19:47.883118Z",
     "iopub.status.busy": "2022-11-30T15:19:47.882819Z",
     "iopub.status.idle": "2022-11-30T15:19:47.920885Z",
     "shell.execute_reply": "2022-11-30T15:19:47.919953Z"
    },
    "papermill": {
     "duration": 0.048876,
     "end_time": "2022-11-30T15:19:47.922986",
     "exception": false,
     "start_time": "2022-11-30T15:19:47.874110",
     "status": "completed"
    },
    "tags": []
   },
   "outputs": [
    {
     "name": "stdout",
     "output_type": "stream",
     "text": [
      "8.847148063395203\n"
     ]
    }
   ],
   "source": [
    "val_preds = tree(X_val)\n",
    "loss = np.abs(val_preds - y_val).mean()\n",
    "print(loss)"
   ]
  },
  {
   "cell_type": "code",
   "execution_count": 20,
   "id": "18291d1a",
   "metadata": {
    "execution": {
     "iopub.execute_input": "2022-11-30T15:19:47.939414Z",
     "iopub.status.busy": "2022-11-30T15:19:47.939147Z",
     "iopub.status.idle": "2022-11-30T15:19:48.007385Z",
     "shell.execute_reply": "2022-11-30T15:19:48.006439Z"
    },
    "papermill": {
     "duration": 0.079176,
     "end_time": "2022-11-30T15:19:48.009671",
     "exception": false,
     "start_time": "2022-11-30T15:19:47.930495",
     "status": "completed"
    },
    "tags": []
   },
   "outputs": [],
   "source": [
    "preds = tree(X_ev)"
   ]
  },
  {
   "cell_type": "code",
   "execution_count": 21,
   "id": "f6aceaf3",
   "metadata": {
    "execution": {
     "iopub.execute_input": "2022-11-30T15:19:48.026229Z",
     "iopub.status.busy": "2022-11-30T15:19:48.025949Z",
     "iopub.status.idle": "2022-11-30T15:19:48.032558Z",
     "shell.execute_reply": "2022-11-30T15:19:48.031413Z"
    },
    "papermill": {
     "duration": 0.018274,
     "end_time": "2022-11-30T15:19:48.035532",
     "exception": false,
     "start_time": "2022-11-30T15:19:48.017258",
     "status": "completed"
    },
    "tags": []
   },
   "outputs": [
    {
     "data": {
      "text/plain": [
       "array([0., 0., 3., ..., 5., 0., 1.])"
      ]
     },
     "execution_count": 21,
     "metadata": {},
     "output_type": "execute_result"
    }
   ],
   "source": [
    "preds"
   ]
  },
  {
   "cell_type": "code",
   "execution_count": 22,
   "id": "e19da759",
   "metadata": {
    "execution": {
     "iopub.execute_input": "2022-11-30T15:19:48.052168Z",
     "iopub.status.busy": "2022-11-30T15:19:48.051388Z",
     "iopub.status.idle": "2022-11-30T15:19:48.056345Z",
     "shell.execute_reply": "2022-11-30T15:19:48.055416Z"
    },
    "papermill": {
     "duration": 0.015082,
     "end_time": "2022-11-30T15:19:48.058256",
     "exception": false,
     "start_time": "2022-11-30T15:19:48.043174",
     "status": "completed"
    },
    "tags": []
   },
   "outputs": [],
   "source": [
    "important_words = [\"rt\", \"fav\", \"favorie\", \"favories\", \"rewteet\", \"retweets\",\"click\", \"macron\", \"lepen\", \"melenchon\"]"
   ]
  },
  {
   "cell_type": "code",
   "execution_count": 23,
   "id": "e4bef503",
   "metadata": {
    "execution": {
     "iopub.execute_input": "2022-11-30T15:19:48.074770Z",
     "iopub.status.busy": "2022-11-30T15:19:48.074023Z",
     "iopub.status.idle": "2022-11-30T15:19:48.675597Z",
     "shell.execute_reply": "2022-11-30T15:19:48.674636Z"
    },
    "papermill": {
     "duration": 0.612189,
     "end_time": "2022-11-30T15:19:48.678070",
     "exception": false,
     "start_time": "2022-11-30T15:19:48.065881",
     "status": "completed"
    },
    "tags": []
   },
   "outputs": [
    {
     "data": {
      "text/plain": [
       "<function matplotlib.pyplot.show(close=None, block=None)>"
      ]
     },
     "execution_count": 23,
     "metadata": {},
     "output_type": "execute_result"
    },
    {
     "data": {
      "image/png": "[encoded data removed]",
      "text/plain": [
       "<Figure size 432x288 with 1 Axes>"
      ]
     },
     "metadata": {
      "needs_background": "light"
     },
     "output_type": "display_data"
    }
   ],
   "source": [
    "import matplotlib.pyplot as plt \n",
    "\n",
    "train_df[\"day\"] = train_df.timestamp.apply(lambda x: datetime.fromtimestamp(x/1000.0).weekday())\n",
    "for day in range(7):\n",
    "    plt.plot(day, np.mean(train_df[train_df[\"day\"]==day][\"retweets_count\"]),'ro')\n",
    "plt.show"
   ]
  },
  {
   "cell_type": "code",
   "execution_count": 24,
   "id": "4e47460e",
   "metadata": {
    "execution": {
     "iopub.execute_input": "2022-11-30T15:19:48.696248Z",
     "iopub.status.busy": "2022-11-30T15:19:48.695928Z",
     "iopub.status.idle": "2022-11-30T15:19:49.176482Z",
     "shell.execute_reply": "2022-11-30T15:19:49.175536Z"
    },
    "papermill": {
     "duration": 0.49149,
     "end_time": "2022-11-30T15:19:49.178608",
     "exception": false,
     "start_time": "2022-11-30T15:19:48.687118",
     "status": "completed"
    },
    "tags": []
   },
   "outputs": [
    {
     "data": {
      "text/plain": [
       "<function matplotlib.pyplot.show(close=None, block=None)>"
      ]
     },
     "execution_count": 24,
     "metadata": {},
     "output_type": "execute_result"
    },
    {
     "data": {
      "image/png": "[encoded data removed]",
      "text/plain": [
       "<Figure size 432x288 with 1 Axes>"
      ]
     },
     "metadata": {
      "needs_background": "light"
     },
     "output_type": "display_data"
    }
   ],
   "source": [
    "train_df[\"hour\"] = train_df.timestamp.apply(lambda x: datetime.fromtimestamp(x/1000.0).weekday())\n",
    "for hour in range(7):\n",
    "    plt.plot(hour, np.mean(train_df[(train_df[\"hour\"]==hour) & (train_df[\"favorites_count\"]>100)][\"retweets_count\"]),'ro')\n",
    "plt.show"
   ]
  },
  {
   "cell_type": "code",
   "execution_count": 25,
   "id": "2a9eae75",
   "metadata": {
    "execution": {
     "iopub.execute_input": "2022-11-30T15:19:49.196055Z",
     "iopub.status.busy": "2022-11-30T15:19:49.195767Z",
     "iopub.status.idle": "2022-11-30T15:19:49.739792Z",
     "shell.execute_reply": "2022-11-30T15:19:49.738803Z"
    },
    "papermill": {
     "duration": 0.554848,
     "end_time": "2022-11-30T15:19:49.741728",
     "exception": false,
     "start_time": "2022-11-30T15:19:49.186880",
     "status": "completed"
    },
    "tags": []
   },
   "outputs": [
    {
     "data": {
      "text/plain": [
       "<function matplotlib.pyplot.show(close=None, block=None)>"
      ]
     },
     "execution_count": 25,
     "metadata": {},
     "output_type": "execute_result"
    },
    {
     "data": {
      "image/png": "[encoded data removed]",
      "text/plain": [
       "<Figure size 432x288 with 1 Axes>"
      ]
     },
     "metadata": {
      "needs_background": "light"
     },
     "output_type": "display_data"
    }
   ],
   "source": [
    "train_df[\"hour\"] = train_df.timestamp.apply(lambda x: datetime.fromtimestamp(x/1000.0).weekday())\n",
    "for hour in range(7):\n",
    "    plt.plot(hour, np.mean(train_df[(train_df[\"hour\"]==hour) & (train_df[\"favorites_count\"]<=100)][\"retweets_count\"]),'ro')\n",
    "plt.show"
   ]
  },
  {
   "cell_type": "code",
   "execution_count": 26,
   "id": "3ba7e3fc",
   "metadata": {
    "execution": {
     "iopub.execute_input": "2022-11-30T15:19:49.761082Z",
     "iopub.status.busy": "2022-11-30T15:19:49.760041Z",
     "iopub.status.idle": "2022-11-30T15:19:49.770132Z",
     "shell.execute_reply": "2022-11-30T15:19:49.769278Z"
    },
    "papermill": {
     "duration": 0.021573,
     "end_time": "2022-11-30T15:19:49.772128",
     "exception": false,
     "start_time": "2022-11-30T15:19:49.750555",
     "status": "completed"
    },
    "tags": []
   },
   "outputs": [],
   "source": [
    "from math import log10\n",
    "def pre_process(df, train=True):\n",
    "    if train:\n",
    "        df[\"logrt\"] = df.retweets_count.map(lambda x: log10(x+1))\n",
    "    df[\"logfav\"] = df.favorites_count.map(lambda x: log10(x+1))\n",
    "    df[\"logfriend\"] = df.friends_count.map(lambda x: log10(x+1))\n",
    "    df[\"logstatus\"] = df.statuses_count.map(lambda x: log10(x+1))\n",
    "    df[\"text_len\"] = df.text.map(lambda x: len(x)/140)\n",
    "    df[\"word_count\"] = df.text.map(lambda x: len(x.split())/140)\n",
    "    df[\"normed_time\"] = df.timestamp.map(lambda t: log10(1.64775e12 - t))\n",
    "    for w in important_words:\n",
    "        df[w] = df.text.map(lambda t: 1 if w in [word.lower() for word in t] else 0)\n",
    "    df[\"hour\"] = df.timestamp.apply(lambda x: datetime.fromtimestamp(x/1000.0).hour)\n",
    "    df[\"day\"] = df.timestamp.apply(lambda x: datetime.fromtimestamp(x/1000.0).weekday())\n",
    "    Xt = df[[\"logfav\", \"text_len\", \"logfriend\", \"word_count\", \"logstatus\", \"normed_time\", \"verified\", *important_words]].values\n",
    "    if train:\n",
    "        yt = df[\"retweets_count\"].values[:, None]\n",
    "        return Xt, yt\n",
    "    else:\n",
    "        return Xt"
   ]
  },
  {
   "cell_type": "code",
   "execution_count": 27,
   "id": "4cdd3417",
   "metadata": {
    "execution": {
     "iopub.execute_input": "2022-11-30T15:19:49.789859Z",
     "iopub.status.busy": "2022-11-30T15:19:49.789118Z",
     "iopub.status.idle": "2022-11-30T15:19:59.667064Z",
     "shell.execute_reply": "2022-11-30T15:19:59.666044Z"
    },
    "papermill": {
     "duration": 9.889457,
     "end_time": "2022-11-30T15:19:59.669708",
     "exception": false,
     "start_time": "2022-11-30T15:19:49.780251",
     "status": "completed"
    },
    "tags": []
   },
   "outputs": [],
   "source": [
    "import tensorflow as tf\n",
    "from tensorflow import keras\n",
    "from tensorflow.keras import layers"
   ]
  },
  {
   "cell_type": "code",
   "execution_count": 28,
   "id": "0754619b",
   "metadata": {
    "execution": {
     "iopub.execute_input": "2022-11-30T15:19:59.688045Z",
     "iopub.status.busy": "2022-11-30T15:19:59.687506Z",
     "iopub.status.idle": "2022-11-30T15:19:59.694611Z",
     "shell.execute_reply": "2022-11-30T15:19:59.693683Z"
    },
    "papermill": {
     "duration": 0.01833,
     "end_time": "2022-11-30T15:19:59.696638",
     "exception": false,
     "start_time": "2022-11-30T15:19:59.678308",
     "status": "completed"
    },
    "tags": []
   },
   "outputs": [],
   "source": [
    "class print_training_on_text_every_10_epochs_Callback(tf.keras.callbacks.Callback):\n",
    "    def on_epoch_end(self, epoch, logs=None):\n",
    "        if(int(epoch) % 200) == 0:\n",
    "            if 'val_loss' in logs:\n",
    "                print(\"Epoch: {:>3} | Loss: \".format(epoch) + f\"{logs['loss']:.4e}\"\\\n",
    "                      + \" | Valid loss: \" + f\"{logs['val_loss']:.4e}\")\n",
    "            else:\n",
    "                print(\"Epoch: {:>3} | Loss: \".format(epoch) + f\"{logs['loss']:.4e}\")\n",
    "\n",
    "lr0 = 0.003\n",
    "decrease_start = 40\n",
    "def schedule(epoch, lr):\n",
    "    if epoch < decrease_start:\n",
    "        return lr0\n",
    "    return lr0 * decrease_start/ epoch\n",
    "scheduler = tf.keras.callbacks.LearningRateScheduler(schedule , verbose=0)\n",
    "my_callbacks = [\n",
    "  print_training_on_text_every_10_epochs_Callback(),scheduler\n",
    "  ]"
   ]
  },
  {
   "cell_type": "code",
   "execution_count": 29,
   "id": "48f153ea",
   "metadata": {
    "execution": {
     "iopub.execute_input": "2022-11-30T15:19:59.716299Z",
     "iopub.status.busy": "2022-11-30T15:19:59.714686Z",
     "iopub.status.idle": "2022-11-30T15:20:10.797175Z",
     "shell.execute_reply": "2022-11-30T15:20:10.796020Z"
    },
    "papermill": {
     "duration": 11.09447,
     "end_time": "2022-11-30T15:20:10.799978",
     "exception": false,
     "start_time": "2022-11-30T15:19:59.705508",
     "status": "completed"
    },
    "tags": []
   },
   "outputs": [],
   "source": [
    "X_test = pre_process(ev_df, train=False)\n",
    "import csv"
   ]
  },
  {
   "cell_type": "code",
   "execution_count": 30,
   "id": "a563d250",
   "metadata": {
    "execution": {
     "iopub.execute_input": "2022-11-30T15:20:10.818301Z",
     "iopub.status.busy": "2022-11-30T15:20:10.817993Z",
     "iopub.status.idle": "2022-11-30T15:29:58.715701Z",
     "shell.execute_reply": "2022-11-30T15:29:58.714518Z"
    },
    "papermill": {
     "duration": 587.909337,
     "end_time": "2022-11-30T15:29:58.717984",
     "exception": false,
     "start_time": "2022-11-30T15:20:10.808647",
     "status": "completed"
    },
    "tags": []
   },
   "outputs": [
    {
     "name": "stdout",
     "output_type": "stream",
     "text": [
      "\n",
      "100 100\n",
      "10790 17\n"
     ]
    },
    {
     "name": "stderr",
     "output_type": "stream",
     "text": [
      "2022-11-30 15:20:16.227152: I tensorflow/stream_executor/cuda/cuda_gpu_executor.cc:937] successful NUMA node read from SysFS had negative value (-1), but there must be at least one NUMA node, so returning NUMA node zero\n",
      "2022-11-30 15:20:16.228137: I tensorflow/stream_executor/cuda/cuda_gpu_executor.cc:937] successful NUMA node read from SysFS had negative value (-1), but there must be at least one NUMA node, so returning NUMA node zero\n",
      "2022-11-30 15:20:16.505513: I tensorflow/stream_executor/cuda/cuda_gpu_executor.cc:937] successful NUMA node read from SysFS had negative value (-1), but there must be at least one NUMA node, so returning NUMA node zero\n",
      "2022-11-30 15:20:16.506293: I tensorflow/stream_executor/cuda/cuda_gpu_executor.cc:937] successful NUMA node read from SysFS had negative value (-1), but there must be at least one NUMA node, so returning NUMA node zero\n",
      "2022-11-30 15:20:16.507095: I tensorflow/stream_executor/cuda/cuda_gpu_executor.cc:937] successful NUMA node read from SysFS had negative value (-1), but there must be at least one NUMA node, so returning NUMA node zero\n",
      "2022-11-30 15:20:16.507850: I tensorflow/stream_executor/cuda/cuda_gpu_executor.cc:937] successful NUMA node read from SysFS had negative value (-1), but there must be at least one NUMA node, so returning NUMA node zero\n",
      "2022-11-30 15:20:16.510488: I tensorflow/core/platform/cpu_feature_guard.cc:142] This TensorFlow binary is optimized with oneAPI Deep Neural Network Library (oneDNN) to use the following CPU instructions in performance-critical operations:  AVX2 AVX512F FMA\n",
      "To enable them in other operations, rebuild TensorFlow with the appropriate compiler flags.\n",
      "2022-11-30 15:20:16.750038: I tensorflow/stream_executor/cuda/cuda_gpu_executor.cc:937] successful NUMA node read from SysFS had negative value (-1), but there must be at least one NUMA node, so returning NUMA node zero\n",
      "2022-11-30 15:20:16.750889: I tensorflow/stream_executor/cuda/cuda_gpu_executor.cc:937] successful NUMA node read from SysFS had negative value (-1), but there must be at least one NUMA node, so returning NUMA node zero\n",
      "2022-11-30 15:20:16.751587: I tensorflow/stream_executor/cuda/cuda_gpu_executor.cc:937] successful NUMA node read from SysFS had negative value (-1), but there must be at least one NUMA node, so returning NUMA node zero\n",
      "2022-11-30 15:20:16.752285: I tensorflow/stream_executor/cuda/cuda_gpu_executor.cc:937] successful NUMA node read from SysFS had negative value (-1), but there must be at least one NUMA node, so returning NUMA node zero\n",
      "2022-11-30 15:20:16.752976: I tensorflow/stream_executor/cuda/cuda_gpu_executor.cc:937] successful NUMA node read from SysFS had negative value (-1), but there must be at least one NUMA node, so returning NUMA node zero\n",
      "2022-11-30 15:20:16.753654: I tensorflow/stream_executor/cuda/cuda_gpu_executor.cc:937] successful NUMA node read from SysFS had negative value (-1), but there must be at least one NUMA node, so returning NUMA node zero\n",
      "2022-11-30 15:20:21.041478: I tensorflow/stream_executor/cuda/cuda_gpu_executor.cc:937] successful NUMA node read from SysFS had negative value (-1), but there must be at least one NUMA node, so returning NUMA node zero\n",
      "2022-11-30 15:20:21.042378: I tensorflow/stream_executor/cuda/cuda_gpu_executor.cc:937] successful NUMA node read from SysFS had negative value (-1), but there must be at least one NUMA node, so returning NUMA node zero\n",
      "2022-11-30 15:20:21.043092: I tensorflow/stream_executor/cuda/cuda_gpu_executor.cc:937] successful NUMA node read from SysFS had negative value (-1), but there must be at least one NUMA node, so returning NUMA node zero\n",
      "2022-11-30 15:20:21.043793: I tensorflow/stream_executor/cuda/cuda_gpu_executor.cc:937] successful NUMA node read from SysFS had negative value (-1), but there must be at least one NUMA node, so returning NUMA node zero\n",
      "2022-11-30 15:20:21.044465: I tensorflow/stream_executor/cuda/cuda_gpu_executor.cc:937] successful NUMA node read from SysFS had negative value (-1), but there must be at least one NUMA node, so returning NUMA node zero\n",
      "2022-11-30 15:20:21.045109: I tensorflow/core/common_runtime/gpu/gpu_device.cc:1510] Created device /job:localhost/replica:0/task:0/device:GPU:0 with 13789 MB memory:  -> device: 0, name: Tesla T4, pci bus id: 0000:00:04.0, compute capability: 7.5\n",
      "2022-11-30 15:20:21.049563: I tensorflow/stream_executor/cuda/cuda_gpu_executor.cc:937] successful NUMA node read from SysFS had negative value (-1), but there must be at least one NUMA node, so returning NUMA node zero\n",
      "2022-11-30 15:20:21.050250: I tensorflow/core/common_runtime/gpu/gpu_device.cc:1510] Created device /job:localhost/replica:0/task:0/device:GPU:1 with 13789 MB memory:  -> device: 1, name: Tesla T4, pci bus id: 0000:00:05.0, compute capability: 7.5\n",
      "2022-11-30 15:20:21.545381: I tensorflow/compiler/mlir/mlir_graph_optimization_pass.cc:185] None of the MLIR Optimization Passes are enabled (registered 2)\n"
     ]
    },
    {
     "name": "stdout",
     "output_type": "stream",
     "text": [
      "Epoch:   0 | Loss: 2.5072e+02\n",
      "Epoch: 200 | Loss: 1.4874e+02\n",
      "Epoch: 400 | Loss: 1.4644e+02\n",
      "Epoch: 600 | Loss: 1.4529e+02\n",
      "Epoch: 800 | Loss: 1.4377e+02\n",
      "Epoch: 1000 | Loss: 1.4374e+02\n",
      "Epoch: 1200 | Loss: 1.4336e+02\n",
      "Epoch: 1400 | Loss: 1.4330e+02\n",
      "Epoch: 1600 | Loss: 1.4291e+02\n",
      "Epoch: 1800 | Loss: 1.4277e+02\n",
      "nn difficulty tree difficulty\n",
      "290.04504170528264 2.1351670987907023\n",
      "tree 1.247152286932648 42700.0\n",
      "nn 141.8997601969063 164461.82206821442\n",
      "overall 5.852524848665548\n",
      "(5.852524848665548, 100, 100)\n"
     ]
    }
   ],
   "source": [
    "#attempts = [(i-gap,i) for i in range(60, 110, 4) for gap in [0, 5, 10, 15]]\n",
    "attempts = [(100,100)]\n",
    "scores = []\n",
    "for thresh, eval_tresh in attempts:\n",
    "    print()\n",
    "    print(thresh, eval_tresh)\n",
    "\n",
    "    xltdf = train_df[train_df[\"favorites_count\"] > thresh].copy()\n",
    "    X_train, y_train = pre_process(xltdf)\n",
    "    X_val, y_val = pre_process(val_df)\n",
    "\n",
    "    n_train, n_features = X_train.shape\n",
    "    print(n_train, n_features)\n",
    "\n",
    "    inputs = keras.Input(shape=(n_features,), name=\"digits\")\n",
    "    x = inputs\n",
    "    #x = layers.Dense(64, activation=\"relu\", name=\"dense_1\")(x)\n",
    "    x = layers.Dense(64, activation=\"relu\", name=\"dense_1\")(x)\n",
    "    x = layers.Dense(1, activation=\"linear\", name=\"dense_2\")(x)\n",
    "    x = tf.keras.activations.exponential(x)\n",
    "    x = layers.Dense(1, kernel_initializer=tf.keras.initializers.Ones(), activation=\"linear\", name=\"predictions\")(x)\n",
    "    model = keras.Model(inputs=inputs, outputs=x)\n",
    "\n",
    "    model.compile(\n",
    "        optimizer=keras.optimizers.Adam(learning_rate=0.003),\n",
    "        loss=tf.keras.losses.MeanAbsoluteError(\n",
    "        reduction=\"auto\", name=\"mean_absolute_error\"\n",
    "    ),\n",
    "    )\n",
    "\n",
    "    history = model.fit(\n",
    "        X_train,\n",
    "        y_train,\n",
    "        batch_size=64,\n",
    "        epochs=2000,\n",
    "        verbose=0,\n",
    "        callbacks=my_callbacks\n",
    "    )\n",
    "\n",
    "    val_predictions = model.predict(X_val)\n",
    "\n",
    "    losses_tree = []\n",
    "    losses_nn = []\n",
    "    for i, (_, row) in enumerate(val_df.iterrows()):\n",
    "        if row['favorites_count'] <= eval_tresh:\n",
    "            losses_tree.append(abs(val_preds[i] - y_val[i]).item())\n",
    "        else:\n",
    "            losses_nn.append(abs(val_predictions[i] - y_val[i]).item())\n",
    "\n",
    "    y_ = train_df[train_df[\"favorites_count\"] <= thresh][\"retweets_count\"].values\n",
    "    print(\"nn difficulty\", \"tree difficulty\")\n",
    "    print((y_train - np.median(y_train)).mean(), (y_ - np.median(y_)).mean())\n",
    "    print(\"tree\",sum(losses_tree) / len(losses_tree), sum(losses_tree))\n",
    "    print(\"nn\",sum(losses_nn) / len(losses_nn), sum(losses_nn))\n",
    "    losses = losses_nn + losses_tree\n",
    "    overall = sum(losses) / len(losses)\n",
    "    print(\"overall\",overall)\n",
    "    scores.append((overall, thresh, eval_tresh))\n",
    "    \n",
    "    y_test = model.predict(X_test)[:, 0]\n",
    "    name = f\"predictions{thresh}_{eval_tresh}.txt\"\n",
    "    with open(name, 'w') as f:\n",
    "        writer = csv.writer(f)\n",
    "        writer.writerow([\"TweetID\", \"retweets_count\"])\n",
    "        for i, row in ev_df.iterrows():\n",
    "            pred = preds[i] if row['favorites_count'] <= eval_tresh else y_test[i]\n",
    "            writer.writerow([row['TweetID'], str(int(pred))])\n",
    "    read_file = pd.read_csv (f\"predictions{thresh}_{eval_tresh}.txt\")\n",
    "    read_file.to_csv (f\"predictions{thresh}_{eval_tresh}.csv\", index=None)\n",
    "print(min(scores))"
   ]
  },
  {
   "cell_type": "raw",
   "id": "a254e4bb",
   "metadata": {
    "papermill": {
     "duration": 0.008961,
     "end_time": "2022-11-30T15:29:58.736024",
     "exception": false,
     "start_time": "2022-11-30T15:29:58.727063",
     "status": "completed"
    },
    "tags": []
   },
   "source": [
    "log ?\n",
    "architecture NN ?\n",
    "autre preprocess ?\n",
    "overfit hour / day dans NN ?"
   ]
  },
  {
   "cell_type": "code",
   "execution_count": null,
   "id": "7f24a61b",
   "metadata": {
    "papermill": {
     "duration": 0.008645,
     "end_time": "2022-11-30T15:29:58.753705",
     "exception": false,
     "start_time": "2022-11-30T15:29:58.745060",
     "status": "completed"
    },
    "tags": []
   },
   "outputs": [],
   "source": []
  },
  {
   "cell_type": "code",
   "execution_count": null,
   "id": "e6b7322b",
   "metadata": {
    "papermill": {
     "duration": 0.008622,
     "end_time": "2022-11-30T15:29:58.771133",
     "exception": false,
     "start_time": "2022-11-30T15:29:58.762511",
     "status": "completed"
    },
    "tags": []
   },
   "outputs": [],
   "source": []
  },
  {
   "cell_type": "code",
   "execution_count": null,
   "id": "5c4d3dd9",
   "metadata": {
    "papermill": {
     "duration": 0.008682,
     "end_time": "2022-11-30T15:29:58.788855",
     "exception": false,
     "start_time": "2022-11-30T15:29:58.780173",
     "status": "completed"
    },
    "tags": []
   },
   "outputs": [],
   "source": []
  }
 ],
 "metadata": {
  "kernelspec": {
   "display_name": "Python 3",
   "language": "python",
   "name": "python3"
  },
  "language_info": {
   "codemirror_mode": {
    "name": "ipython",
    "version": 3
   },
   "file_extension": ".py",
   "mimetype": "text/x-python",
   "name": "python",
   "nbconvert_exporter": "python",
   "pygments_lexer": "ipython3",
   "version": "3.7.12"
  },
  "papermill": {
   "default_parameters": {},
   "duration": 634.30004,
   "end_time": "2022-11-30T15:30:02.601290",
   "environment_variables": {},
   "exception": null,
   "input_path": "__notebook__.ipynb",
   "output_path": "__notebook__.ipynb",
   "parameters": {},
   "start_time": "2022-11-30T15:19:28.301250",
   "version": "2.3.4"
  }
 },
 "nbformat": 4,
 "nbformat_minor": 5
}
